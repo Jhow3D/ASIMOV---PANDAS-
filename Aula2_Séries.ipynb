{
  "nbformat": 4,
  "nbformat_minor": 0,
  "metadata": {
    "colab": {
      "provenance": [],
      "collapsed_sections": [],
      "authorship_tag": "ABX9TyNdiPFya7xwyZHs3MIBONnS",
      "include_colab_link": true
    },
    "kernelspec": {
      "name": "python3",
      "display_name": "Python 3"
    },
    "language_info": {
      "name": "python"
    }
  },
  "cells": [
    {
      "cell_type": "markdown",
      "metadata": {
        "id": "view-in-github",
        "colab_type": "text"
      },
      "source": [
        "<a href=\"https://colab.research.google.com/github/Jhow3D/ASIMOV---PANDAS-/blob/main/Aula2_S%C3%A9ries.ipynb\" target=\"_parent\"><img src=\"https://colab.research.google.com/assets/colab-badge.svg\" alt=\"Open In Colab\"/></a>"
      ]
    },
    {
      "cell_type": "code",
      "execution_count": null,
      "metadata": {
        "id": "O00F8Ds61k42"
      },
      "outputs": [],
      "source": [
        "import pandas as pd \n",
        "import numpy as np"
      ]
    },
    {
      "cell_type": "code",
      "source": [
        "# Entendendo séries: \n",
        "  # Criando variáveis com informações para criação de uma Série:\n",
        "labels = ['a','b','c']\n",
        "\n",
        "minha_lista = [10,20,30]\n",
        "\n",
        "arr = np.array([10,20,30])\n",
        "\n",
        "d = {'a':10,'b':20,'c':30}"
      ],
      "metadata": {
        "id": "E6RIM3e52Ns2"
      },
      "execution_count": null,
      "outputs": []
    },
    {
      "cell_type": "code",
      "source": [
        "# Criando uma Série com a variável (labels):\n",
        "\n",
        "pd.Series(labels)"
      ],
      "metadata": {
        "colab": {
          "base_uri": "https://localhost:8080/"
        },
        "id": "PdBK_HLV2y-k",
        "outputId": "b1f13ac4-e00d-4518-f391-3968f6f04912"
      },
      "execution_count": null,
      "outputs": [
        {
          "output_type": "execute_result",
          "data": {
            "text/plain": [
              "0    a\n",
              "1    b\n",
              "2    c\n",
              "dtype: object"
            ]
          },
          "metadata": {},
          "execution_count": 5
        }
      ]
    },
    {
      "cell_type": "code",
      "source": [
        "# Criando e definindo uma Série com as variáveis (labels) e (minha_lista)\n",
        "  # index = posição da linha e data = a informação que está na linha.\n",
        "  \n",
        "pd.Series(data=labels, index=minha_lista)"
      ],
      "metadata": {
        "colab": {
          "base_uri": "https://localhost:8080/"
        },
        "id": "4SSqjga63uAs",
        "outputId": "0fca337f-a651-4c39-f54b-3ecb7df3aef3"
      },
      "execution_count": null,
      "outputs": [
        {
          "output_type": "execute_result",
          "data": {
            "text/plain": [
              "10    a\n",
              "20    b\n",
              "30    c\n",
              "dtype: object"
            ]
          },
          "metadata": {},
          "execution_count": 6
        }
      ]
    },
    {
      "cell_type": "code",
      "source": [
        "# Mesma coisa que cima só que sem indicar \"data\" e \"index\":\n",
        "\n",
        "pd.Series(labels,minha_lista)"
      ],
      "metadata": {
        "colab": {
          "base_uri": "https://localhost:8080/"
        },
        "id": "b71CSzhl33bb",
        "outputId": "c0102464-ee83-4ea2-a605-ecdc477c2c22"
      },
      "execution_count": null,
      "outputs": [
        {
          "output_type": "execute_result",
          "data": {
            "text/plain": [
              "10    a\n",
              "20    b\n",
              "30    c\n",
              "dtype: object"
            ]
          },
          "metadata": {},
          "execution_count": 8
        }
      ]
    },
    {
      "cell_type": "code",
      "source": [
        "# Criando Série com diciónario (d)\n",
        "pd.Series(d)"
      ],
      "metadata": {
        "colab": {
          "base_uri": "https://localhost:8080/"
        },
        "id": "jKvrk19o4DNp",
        "outputId": "c8a8c27e-ab4d-4fd0-f6ff-5a5a88668e41"
      },
      "execution_count": null,
      "outputs": [
        {
          "output_type": "execute_result",
          "data": {
            "text/plain": [
              "a    10\n",
              "b    20\n",
              "c    30\n",
              "dtype: int64"
            ]
          },
          "metadata": {},
          "execution_count": 9
        }
      ]
    },
    {
      "cell_type": "code",
      "source": [
        "# Criando uma Série de forma direta posicionando o \"data \" e \"index\":\n",
        "\n",
        "ser1 = pd.Series([1,2,3,4], index = ['EUA','Alemanha','Russia','Japão'])"
      ],
      "metadata": {
        "id": "Bm-jtlS-4KKE"
      },
      "execution_count": null,
      "outputs": []
    },
    {
      "cell_type": "code",
      "source": [
        "# Visualizando a Série:\n",
        "\n",
        "ser1\n"
      ],
      "metadata": {
        "colab": {
          "base_uri": "https://localhost:8080/"
        },
        "id": "PgPxE0Sx4Xed",
        "outputId": "3a664386-196e-46f2-9388-6f5d2c051689"
      },
      "execution_count": null,
      "outputs": [
        {
          "output_type": "execute_result",
          "data": {
            "text/plain": [
              "EUA         1\n",
              "Alemanha    2\n",
              "Russia      3\n",
              "Japão       4\n",
              "dtype: int64"
            ]
          },
          "metadata": {},
          "execution_count": 13
        }
      ]
    },
    {
      "cell_type": "code",
      "source": [
        "# Criando uma Série de forma direta:\n",
        "\n",
        "ser2 = pd.Series([1,2,5,4], index = ['EUA','Alemanha','Italia','Japão'])"
      ],
      "metadata": {
        "id": "il-JYZ994f26"
      },
      "execution_count": null,
      "outputs": []
    },
    {
      "cell_type": "code",
      "source": [
        "ser2"
      ],
      "metadata": {
        "colab": {
          "base_uri": "https://localhost:8080/"
        },
        "id": "2CcawbzE4k3H",
        "outputId": "46f67661-64b8-467b-f30e-82350510fff4"
      },
      "execution_count": null,
      "outputs": [
        {
          "output_type": "execute_result",
          "data": {
            "text/plain": [
              "EUA         1\n",
              "Alemanha    2\n",
              "Italia      5\n",
              "Japão       4\n",
              "dtype: int64"
            ]
          },
          "metadata": {},
          "execution_count": 17
        }
      ]
    },
    {
      "cell_type": "code",
      "source": [
        "# Visualizando uma série com dois filtros:\n",
        "\n",
        "ser1[['Alemanha','Russia']]"
      ],
      "metadata": {
        "colab": {
          "base_uri": "https://localhost:8080/"
        },
        "id": "FhOt-EQF4pQC",
        "outputId": "c98edd6a-7383-40a5-f953-204eaa32e207"
      },
      "execution_count": null,
      "outputs": [
        {
          "output_type": "execute_result",
          "data": {
            "text/plain": [
              "Alemanha    2\n",
              "Russia      3\n",
              "dtype: int64"
            ]
          },
          "metadata": {},
          "execution_count": 20
        }
      ]
    },
    {
      "cell_type": "code",
      "source": [
        "# Juntando duas séries, caso tenha algum indice diferente eles retornam NaN:\n",
        "\n",
        "ser1 + ser2 "
      ],
      "metadata": {
        "colab": {
          "base_uri": "https://localhost:8080/"
        },
        "id": "r7WI_3i345i2",
        "outputId": "433677d3-49ee-4c46-c122-ecb4c57ac042"
      },
      "execution_count": null,
      "outputs": [
        {
          "output_type": "execute_result",
          "data": {
            "text/plain": [
              "Alemanha    4.0\n",
              "EUA         2.0\n",
              "Italia      NaN\n",
              "Japão       8.0\n",
              "Russia      NaN\n",
              "dtype: float64"
            ]
          },
          "metadata": {},
          "execution_count": 21
        }
      ]
    }
  ]
}